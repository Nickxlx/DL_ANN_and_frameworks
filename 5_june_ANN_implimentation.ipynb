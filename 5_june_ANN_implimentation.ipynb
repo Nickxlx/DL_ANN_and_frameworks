{
 "cells": [
  {
   "cell_type": "code",
   "execution_count": 1,
   "id": "881b6161-9f8b-4d38-a4fb-363d7927edce",
   "metadata": {
    "tags": []
   },
   "outputs": [
    {
     "name": "stdout",
     "output_type": "stream",
     "text": [
      "Requirement already satisfied: tensorflow in /opt/conda/lib/python3.10/site-packages (2.15.0)\n",
      "Requirement already satisfied: ml-dtypes~=0.2.0 in /opt/conda/lib/python3.10/site-packages (from tensorflow) (0.2.0)\n",
      "Requirement already satisfied: tensorflow-estimator<2.16,>=2.15.0 in /opt/conda/lib/python3.10/site-packages (from tensorflow) (2.15.0)\n",
      "Requirement already satisfied: keras<2.16,>=2.15.0 in /opt/conda/lib/python3.10/site-packages (from tensorflow) (2.15.0)\n",
      "Requirement already satisfied: termcolor>=1.1.0 in /opt/conda/lib/python3.10/site-packages (from tensorflow) (2.3.0)\n",
      "Requirement already satisfied: gast!=0.5.0,!=0.5.1,!=0.5.2,>=0.2.1 in /opt/conda/lib/python3.10/site-packages (from tensorflow) (0.5.4)\n",
      "Requirement already satisfied: typing-extensions>=3.6.6 in /opt/conda/lib/python3.10/site-packages (from tensorflow) (4.4.0)\n",
      "Requirement already satisfied: tensorboard<2.16,>=2.15 in /opt/conda/lib/python3.10/site-packages (from tensorflow) (2.15.1)\n",
      "Requirement already satisfied: grpcio<2.0,>=1.24.3 in /opt/conda/lib/python3.10/site-packages (from tensorflow) (1.59.3)\n",
      "Requirement already satisfied: protobuf!=4.21.0,!=4.21.1,!=4.21.2,!=4.21.3,!=4.21.4,!=4.21.5,<5.0.0dev,>=3.20.3 in /opt/conda/lib/python3.10/site-packages (from tensorflow) (4.21.11)\n",
      "Requirement already satisfied: astunparse>=1.6.0 in /opt/conda/lib/python3.10/site-packages (from tensorflow) (1.6.3)\n",
      "Requirement already satisfied: numpy<2.0.0,>=1.23.5 in /opt/conda/lib/python3.10/site-packages (from tensorflow) (1.23.5)\n",
      "Requirement already satisfied: h5py>=2.9.0 in /opt/conda/lib/python3.10/site-packages (from tensorflow) (3.7.0)\n",
      "Requirement already satisfied: absl-py>=1.0.0 in /opt/conda/lib/python3.10/site-packages (from tensorflow) (2.0.0)\n",
      "Requirement already satisfied: google-pasta>=0.1.1 in /opt/conda/lib/python3.10/site-packages (from tensorflow) (0.2.0)\n",
      "Requirement already satisfied: flatbuffers>=23.5.26 in /opt/conda/lib/python3.10/site-packages (from tensorflow) (23.5.26)\n",
      "Requirement already satisfied: wrapt<1.15,>=1.11.0 in /opt/conda/lib/python3.10/site-packages (from tensorflow) (1.14.1)\n",
      "Requirement already satisfied: tensorflow-io-gcs-filesystem>=0.23.1 in /opt/conda/lib/python3.10/site-packages (from tensorflow) (0.34.0)\n",
      "Requirement already satisfied: opt-einsum>=2.3.2 in /opt/conda/lib/python3.10/site-packages (from tensorflow) (3.3.0)\n",
      "Requirement already satisfied: setuptools in /opt/conda/lib/python3.10/site-packages (from tensorflow) (65.5.1)\n",
      "Requirement already satisfied: packaging in /opt/conda/lib/python3.10/site-packages (from tensorflow) (22.0)\n",
      "Requirement already satisfied: six>=1.12.0 in /opt/conda/lib/python3.10/site-packages (from tensorflow) (1.16.0)\n",
      "Requirement already satisfied: libclang>=13.0.0 in /opt/conda/lib/python3.10/site-packages (from tensorflow) (16.0.6)\n",
      "Requirement already satisfied: wheel<1.0,>=0.23.0 in /opt/conda/lib/python3.10/site-packages (from astunparse>=1.6.0->tensorflow) (0.38.4)\n",
      "Requirement already satisfied: google-auth-oauthlib<2,>=0.5 in /opt/conda/lib/python3.10/site-packages (from tensorboard<2.16,>=2.15->tensorflow) (1.1.0)\n",
      "Requirement already satisfied: requests<3,>=2.21.0 in /opt/conda/lib/python3.10/site-packages (from tensorboard<2.16,>=2.15->tensorflow) (2.28.1)\n",
      "Requirement already satisfied: werkzeug>=1.0.1 in /opt/conda/lib/python3.10/site-packages (from tensorboard<2.16,>=2.15->tensorflow) (3.0.1)\n",
      "Requirement already satisfied: google-auth<3,>=1.6.3 in /opt/conda/lib/python3.10/site-packages (from tensorboard<2.16,>=2.15->tensorflow) (2.24.0)\n",
      "Requirement already satisfied: markdown>=2.6.8 in /opt/conda/lib/python3.10/site-packages (from tensorboard<2.16,>=2.15->tensorflow) (3.5.1)\n",
      "Requirement already satisfied: tensorboard-data-server<0.8.0,>=0.7.0 in /opt/conda/lib/python3.10/site-packages (from tensorboard<2.16,>=2.15->tensorflow) (0.7.2)\n",
      "Requirement already satisfied: pyasn1-modules>=0.2.1 in /opt/conda/lib/python3.10/site-packages (from google-auth<3,>=1.6.3->tensorboard<2.16,>=2.15->tensorflow) (0.3.0)\n",
      "Requirement already satisfied: rsa<5,>=3.1.4 in /opt/conda/lib/python3.10/site-packages (from google-auth<3,>=1.6.3->tensorboard<2.16,>=2.15->tensorflow) (4.9)\n",
      "Requirement already satisfied: cachetools<6.0,>=2.0.0 in /opt/conda/lib/python3.10/site-packages (from google-auth<3,>=1.6.3->tensorboard<2.16,>=2.15->tensorflow) (5.3.2)\n",
      "Requirement already satisfied: requests-oauthlib>=0.7.0 in /opt/conda/lib/python3.10/site-packages (from google-auth-oauthlib<2,>=0.5->tensorboard<2.16,>=2.15->tensorflow) (1.3.1)\n",
      "Requirement already satisfied: urllib3<1.27,>=1.21.1 in /opt/conda/lib/python3.10/site-packages (from requests<3,>=2.21.0->tensorboard<2.16,>=2.15->tensorflow) (1.26.13)\n",
      "Requirement already satisfied: idna<4,>=2.5 in /opt/conda/lib/python3.10/site-packages (from requests<3,>=2.21.0->tensorboard<2.16,>=2.15->tensorflow) (3.4)\n",
      "Requirement already satisfied: charset-normalizer<3,>=2 in /opt/conda/lib/python3.10/site-packages (from requests<3,>=2.21.0->tensorboard<2.16,>=2.15->tensorflow) (2.1.1)\n",
      "Requirement already satisfied: certifi>=2017.4.17 in /opt/conda/lib/python3.10/site-packages (from requests<3,>=2.21.0->tensorboard<2.16,>=2.15->tensorflow) (2022.12.7)\n",
      "Requirement already satisfied: MarkupSafe>=2.1.1 in /opt/conda/lib/python3.10/site-packages (from werkzeug>=1.0.1->tensorboard<2.16,>=2.15->tensorflow) (2.1.1)\n",
      "Requirement already satisfied: pyasn1<0.6.0,>=0.4.6 in /opt/conda/lib/python3.10/site-packages (from pyasn1-modules>=0.2.1->google-auth<3,>=1.6.3->tensorboard<2.16,>=2.15->tensorflow) (0.5.1)\n",
      "Requirement already satisfied: oauthlib>=3.0.0 in /opt/conda/lib/python3.10/site-packages (from requests-oauthlib>=0.7.0->google-auth-oauthlib<2,>=0.5->tensorboard<2.16,>=2.15->tensorflow) (3.2.2)\n"
     ]
    }
   ],
   "source": [
    "!pip install tensorflow"
   ]
  },
  {
   "cell_type": "code",
   "execution_count": 2,
   "id": "f8e8a499-e8ac-46e7-9a52-9b5d695c68a5",
   "metadata": {
    "collapsed": true,
    "jupyter": {
     "outputs_hidden": true
    },
    "tags": []
   },
   "outputs": [
    {
     "name": "stderr",
     "output_type": "stream",
     "text": [
      "2023-12-01 06:28:37.647600: I external/local_tsl/tsl/cuda/cudart_stub.cc:31] Could not find cuda drivers on your machine, GPU will not be used.\n",
      "2023-12-01 06:28:37.716740: E external/local_xla/xla/stream_executor/cuda/cuda_dnn.cc:9261] Unable to register cuDNN factory: Attempting to register factory for plugin cuDNN when one has already been registered\n",
      "2023-12-01 06:28:37.716814: E external/local_xla/xla/stream_executor/cuda/cuda_fft.cc:607] Unable to register cuFFT factory: Attempting to register factory for plugin cuFFT when one has already been registered\n",
      "2023-12-01 06:28:37.718379: E external/local_xla/xla/stream_executor/cuda/cuda_blas.cc:1515] Unable to register cuBLAS factory: Attempting to register factory for plugin cuBLAS when one has already been registered\n",
      "2023-12-01 06:28:37.727672: I external/local_tsl/tsl/cuda/cudart_stub.cc:31] Could not find cuda drivers on your machine, GPU will not be used.\n",
      "2023-12-01 06:28:37.728332: I tensorflow/core/platform/cpu_feature_guard.cc:182] This TensorFlow binary is optimized to use available CPU instructions in performance-critical operations.\n",
      "To enable the following instructions: AVX2 FMA, in other operations, rebuild TensorFlow with the appropriate compiler flags.\n",
      "2023-12-01 06:28:38.914419: W tensorflow/compiler/tf2tensorrt/utils/py_utils.cc:38] TF-TRT Warning: Could not find TensorRT\n"
     ]
    }
   ],
   "source": [
    "# loading required libs\n",
    "\n",
    "import tensorflow as tf\n",
    "import keras\n",
    "\n",
    "import pandas as pd\n",
    "import numpy as np\n",
    "import matplotlib.pyplot as plt\n",
    "import seaborn as sns"
   ]
  },
  {
   "cell_type": "code",
   "execution_count": 3,
   "id": "748ac506-5036-44aa-a386-d7f0cdfa4eb2",
   "metadata": {},
   "outputs": [
    {
     "name": "stdout",
     "output_type": "stream",
     "text": [
      "TensorFlow Version: 2.15.0\n",
      "Keras Version: 2.15.0\n"
     ]
    }
   ],
   "source": [
    "# Checking the version of TensorFlow and Keras\n",
    "\n",
    "print(f\"TensorFlow Version: {tf.__version__}\")\n",
    "print(f\"Keras Version: {keras.__version__}\")"
   ]
  },
  {
   "cell_type": "code",
   "execution_count": null,
   "id": "9991afff-5ad5-4e76-806a-672c1fd12998",
   "metadata": {},
   "outputs": [],
   "source": []
  },
  {
   "cell_type": "code",
   "execution_count": 4,
   "id": "8896dcaa-36db-46e1-bbe8-d2eaba2ecda8",
   "metadata": {},
   "outputs": [
    {
     "data": {
      "text/html": [
       "<div>\n",
       "<style scoped>\n",
       "    .dataframe tbody tr th:only-of-type {\n",
       "        vertical-align: middle;\n",
       "    }\n",
       "\n",
       "    .dataframe tbody tr th {\n",
       "        vertical-align: top;\n",
       "    }\n",
       "\n",
       "    .dataframe thead th {\n",
       "        text-align: right;\n",
       "    }\n",
       "</style>\n",
       "<table border=\"1\" class=\"dataframe\">\n",
       "  <thead>\n",
       "    <tr style=\"text-align: right;\">\n",
       "      <th></th>\n",
       "      <th>fixed acidity</th>\n",
       "      <th>volatile acidity</th>\n",
       "      <th>citric acid</th>\n",
       "      <th>residual sugar</th>\n",
       "      <th>chlorides</th>\n",
       "      <th>free sulfur dioxide</th>\n",
       "      <th>total sulfur dioxide</th>\n",
       "      <th>density</th>\n",
       "      <th>pH</th>\n",
       "      <th>sulphates</th>\n",
       "      <th>alcohol</th>\n",
       "      <th>quality</th>\n",
       "    </tr>\n",
       "  </thead>\n",
       "  <tbody>\n",
       "    <tr>\n",
       "      <th>0</th>\n",
       "      <td>7.4</td>\n",
       "      <td>0.70</td>\n",
       "      <td>0.00</td>\n",
       "      <td>1.9</td>\n",
       "      <td>0.076</td>\n",
       "      <td>11.0</td>\n",
       "      <td>34.0</td>\n",
       "      <td>0.9978</td>\n",
       "      <td>3.51</td>\n",
       "      <td>0.56</td>\n",
       "      <td>9.4</td>\n",
       "      <td>bad</td>\n",
       "    </tr>\n",
       "    <tr>\n",
       "      <th>1</th>\n",
       "      <td>7.8</td>\n",
       "      <td>0.88</td>\n",
       "      <td>0.00</td>\n",
       "      <td>2.6</td>\n",
       "      <td>0.098</td>\n",
       "      <td>25.0</td>\n",
       "      <td>67.0</td>\n",
       "      <td>0.9968</td>\n",
       "      <td>3.20</td>\n",
       "      <td>0.68</td>\n",
       "      <td>9.8</td>\n",
       "      <td>bad</td>\n",
       "    </tr>\n",
       "    <tr>\n",
       "      <th>2</th>\n",
       "      <td>7.8</td>\n",
       "      <td>0.76</td>\n",
       "      <td>0.04</td>\n",
       "      <td>2.3</td>\n",
       "      <td>0.092</td>\n",
       "      <td>15.0</td>\n",
       "      <td>54.0</td>\n",
       "      <td>0.9970</td>\n",
       "      <td>3.26</td>\n",
       "      <td>0.65</td>\n",
       "      <td>9.8</td>\n",
       "      <td>bad</td>\n",
       "    </tr>\n",
       "    <tr>\n",
       "      <th>3</th>\n",
       "      <td>11.2</td>\n",
       "      <td>0.28</td>\n",
       "      <td>0.56</td>\n",
       "      <td>1.9</td>\n",
       "      <td>0.075</td>\n",
       "      <td>17.0</td>\n",
       "      <td>60.0</td>\n",
       "      <td>0.9980</td>\n",
       "      <td>3.16</td>\n",
       "      <td>0.58</td>\n",
       "      <td>9.8</td>\n",
       "      <td>good</td>\n",
       "    </tr>\n",
       "    <tr>\n",
       "      <th>4</th>\n",
       "      <td>7.4</td>\n",
       "      <td>0.70</td>\n",
       "      <td>0.00</td>\n",
       "      <td>1.9</td>\n",
       "      <td>0.076</td>\n",
       "      <td>11.0</td>\n",
       "      <td>34.0</td>\n",
       "      <td>0.9978</td>\n",
       "      <td>3.51</td>\n",
       "      <td>0.56</td>\n",
       "      <td>9.4</td>\n",
       "      <td>bad</td>\n",
       "    </tr>\n",
       "  </tbody>\n",
       "</table>\n",
       "</div>"
      ],
      "text/plain": [
       "   fixed acidity  volatile acidity  citric acid  residual sugar  chlorides  \\\n",
       "0            7.4              0.70         0.00             1.9      0.076   \n",
       "1            7.8              0.88         0.00             2.6      0.098   \n",
       "2            7.8              0.76         0.04             2.3      0.092   \n",
       "3           11.2              0.28         0.56             1.9      0.075   \n",
       "4            7.4              0.70         0.00             1.9      0.076   \n",
       "\n",
       "   free sulfur dioxide  total sulfur dioxide  density    pH  sulphates  \\\n",
       "0                 11.0                  34.0   0.9978  3.51       0.56   \n",
       "1                 25.0                  67.0   0.9968  3.20       0.68   \n",
       "2                 15.0                  54.0   0.9970  3.26       0.65   \n",
       "3                 17.0                  60.0   0.9980  3.16       0.58   \n",
       "4                 11.0                  34.0   0.9978  3.51       0.56   \n",
       "\n",
       "   alcohol quality  \n",
       "0      9.4     bad  \n",
       "1      9.8     bad  \n",
       "2      9.8     bad  \n",
       "3      9.8    good  \n",
       "4      9.4     bad  "
      ]
     },
     "execution_count": 4,
     "metadata": {},
     "output_type": "execute_result"
    }
   ],
   "source": [
    "df =  pd.read_csv(\"wine.csv\")\n",
    "df.head()"
   ]
  },
  {
   "cell_type": "code",
   "execution_count": null,
   "id": "b8905323-3a14-4f35-a982-dc99f580f267",
   "metadata": {},
   "outputs": [],
   "source": []
  },
  {
   "cell_type": "code",
   "execution_count": null,
   "id": "3f9e38a7-c683-4d33-bf6d-fbd418f97392",
   "metadata": {},
   "outputs": [],
   "source": []
  },
  {
   "cell_type": "markdown",
   "id": "3df6690e-1868-49c8-9f06-73617d50e7a0",
   "metadata": {},
   "source": [
    "## EDA "
   ]
  },
  {
   "cell_type": "code",
   "execution_count": 5,
   "id": "8357288e-4bd7-4385-ad57-81a80bd9bf6e",
   "metadata": {},
   "outputs": [
    {
     "name": "stdout",
     "output_type": "stream",
     "text": [
      "<class 'pandas.core.frame.DataFrame'>\n",
      "RangeIndex: 1599 entries, 0 to 1598\n",
      "Data columns (total 12 columns):\n",
      " #   Column                Non-Null Count  Dtype  \n",
      "---  ------                --------------  -----  \n",
      " 0   fixed acidity         1599 non-null   float64\n",
      " 1   volatile acidity      1599 non-null   float64\n",
      " 2   citric acid           1599 non-null   float64\n",
      " 3   residual sugar        1599 non-null   float64\n",
      " 4   chlorides             1599 non-null   float64\n",
      " 5   free sulfur dioxide   1599 non-null   float64\n",
      " 6   total sulfur dioxide  1599 non-null   float64\n",
      " 7   density               1599 non-null   float64\n",
      " 8   pH                    1599 non-null   float64\n",
      " 9   sulphates             1599 non-null   float64\n",
      " 10  alcohol               1599 non-null   float64\n",
      " 11  quality               1599 non-null   object \n",
      "dtypes: float64(11), object(1)\n",
      "memory usage: 150.0+ KB\n"
     ]
    }
   ],
   "source": [
    "df.info()"
   ]
  },
  {
   "cell_type": "code",
   "execution_count": 6,
   "id": "9114c08f-b497-4761-b193-12fed2ab14ff",
   "metadata": {},
   "outputs": [
    {
     "data": {
      "text/html": [
       "<div>\n",
       "<style scoped>\n",
       "    .dataframe tbody tr th:only-of-type {\n",
       "        vertical-align: middle;\n",
       "    }\n",
       "\n",
       "    .dataframe tbody tr th {\n",
       "        vertical-align: top;\n",
       "    }\n",
       "\n",
       "    .dataframe thead th {\n",
       "        text-align: right;\n",
       "    }\n",
       "</style>\n",
       "<table border=\"1\" class=\"dataframe\">\n",
       "  <thead>\n",
       "    <tr style=\"text-align: right;\">\n",
       "      <th></th>\n",
       "      <th>fixed acidity</th>\n",
       "      <th>volatile acidity</th>\n",
       "      <th>citric acid</th>\n",
       "      <th>residual sugar</th>\n",
       "      <th>chlorides</th>\n",
       "      <th>free sulfur dioxide</th>\n",
       "      <th>total sulfur dioxide</th>\n",
       "      <th>density</th>\n",
       "      <th>pH</th>\n",
       "      <th>sulphates</th>\n",
       "      <th>alcohol</th>\n",
       "    </tr>\n",
       "  </thead>\n",
       "  <tbody>\n",
       "    <tr>\n",
       "      <th>count</th>\n",
       "      <td>1599.000000</td>\n",
       "      <td>1599.000000</td>\n",
       "      <td>1599.000000</td>\n",
       "      <td>1599.000000</td>\n",
       "      <td>1599.000000</td>\n",
       "      <td>1599.000000</td>\n",
       "      <td>1599.000000</td>\n",
       "      <td>1599.000000</td>\n",
       "      <td>1599.000000</td>\n",
       "      <td>1599.000000</td>\n",
       "      <td>1599.000000</td>\n",
       "    </tr>\n",
       "    <tr>\n",
       "      <th>mean</th>\n",
       "      <td>8.319637</td>\n",
       "      <td>0.527821</td>\n",
       "      <td>0.270976</td>\n",
       "      <td>2.538806</td>\n",
       "      <td>0.087467</td>\n",
       "      <td>15.874922</td>\n",
       "      <td>46.467792</td>\n",
       "      <td>0.996747</td>\n",
       "      <td>3.311113</td>\n",
       "      <td>0.658149</td>\n",
       "      <td>10.422983</td>\n",
       "    </tr>\n",
       "    <tr>\n",
       "      <th>std</th>\n",
       "      <td>1.741096</td>\n",
       "      <td>0.179060</td>\n",
       "      <td>0.194801</td>\n",
       "      <td>1.409928</td>\n",
       "      <td>0.047065</td>\n",
       "      <td>10.460157</td>\n",
       "      <td>32.895324</td>\n",
       "      <td>0.001887</td>\n",
       "      <td>0.154386</td>\n",
       "      <td>0.169507</td>\n",
       "      <td>1.065668</td>\n",
       "    </tr>\n",
       "    <tr>\n",
       "      <th>min</th>\n",
       "      <td>4.600000</td>\n",
       "      <td>0.120000</td>\n",
       "      <td>0.000000</td>\n",
       "      <td>0.900000</td>\n",
       "      <td>0.012000</td>\n",
       "      <td>1.000000</td>\n",
       "      <td>6.000000</td>\n",
       "      <td>0.990070</td>\n",
       "      <td>2.740000</td>\n",
       "      <td>0.330000</td>\n",
       "      <td>8.400000</td>\n",
       "    </tr>\n",
       "    <tr>\n",
       "      <th>25%</th>\n",
       "      <td>7.100000</td>\n",
       "      <td>0.390000</td>\n",
       "      <td>0.090000</td>\n",
       "      <td>1.900000</td>\n",
       "      <td>0.070000</td>\n",
       "      <td>7.000000</td>\n",
       "      <td>22.000000</td>\n",
       "      <td>0.995600</td>\n",
       "      <td>3.210000</td>\n",
       "      <td>0.550000</td>\n",
       "      <td>9.500000</td>\n",
       "    </tr>\n",
       "    <tr>\n",
       "      <th>50%</th>\n",
       "      <td>7.900000</td>\n",
       "      <td>0.520000</td>\n",
       "      <td>0.260000</td>\n",
       "      <td>2.200000</td>\n",
       "      <td>0.079000</td>\n",
       "      <td>14.000000</td>\n",
       "      <td>38.000000</td>\n",
       "      <td>0.996750</td>\n",
       "      <td>3.310000</td>\n",
       "      <td>0.620000</td>\n",
       "      <td>10.200000</td>\n",
       "    </tr>\n",
       "    <tr>\n",
       "      <th>75%</th>\n",
       "      <td>9.200000</td>\n",
       "      <td>0.640000</td>\n",
       "      <td>0.420000</td>\n",
       "      <td>2.600000</td>\n",
       "      <td>0.090000</td>\n",
       "      <td>21.000000</td>\n",
       "      <td>62.000000</td>\n",
       "      <td>0.997835</td>\n",
       "      <td>3.400000</td>\n",
       "      <td>0.730000</td>\n",
       "      <td>11.100000</td>\n",
       "    </tr>\n",
       "    <tr>\n",
       "      <th>max</th>\n",
       "      <td>15.900000</td>\n",
       "      <td>1.580000</td>\n",
       "      <td>1.000000</td>\n",
       "      <td>15.500000</td>\n",
       "      <td>0.611000</td>\n",
       "      <td>72.000000</td>\n",
       "      <td>289.000000</td>\n",
       "      <td>1.003690</td>\n",
       "      <td>4.010000</td>\n",
       "      <td>2.000000</td>\n",
       "      <td>14.900000</td>\n",
       "    </tr>\n",
       "  </tbody>\n",
       "</table>\n",
       "</div>"
      ],
      "text/plain": [
       "       fixed acidity  volatile acidity  citric acid  residual sugar  \\\n",
       "count    1599.000000       1599.000000  1599.000000     1599.000000   \n",
       "mean        8.319637          0.527821     0.270976        2.538806   \n",
       "std         1.741096          0.179060     0.194801        1.409928   \n",
       "min         4.600000          0.120000     0.000000        0.900000   \n",
       "25%         7.100000          0.390000     0.090000        1.900000   \n",
       "50%         7.900000          0.520000     0.260000        2.200000   \n",
       "75%         9.200000          0.640000     0.420000        2.600000   \n",
       "max        15.900000          1.580000     1.000000       15.500000   \n",
       "\n",
       "         chlorides  free sulfur dioxide  total sulfur dioxide      density  \\\n",
       "count  1599.000000          1599.000000           1599.000000  1599.000000   \n",
       "mean      0.087467            15.874922             46.467792     0.996747   \n",
       "std       0.047065            10.460157             32.895324     0.001887   \n",
       "min       0.012000             1.000000              6.000000     0.990070   \n",
       "25%       0.070000             7.000000             22.000000     0.995600   \n",
       "50%       0.079000            14.000000             38.000000     0.996750   \n",
       "75%       0.090000            21.000000             62.000000     0.997835   \n",
       "max       0.611000            72.000000            289.000000     1.003690   \n",
       "\n",
       "                pH    sulphates      alcohol  \n",
       "count  1599.000000  1599.000000  1599.000000  \n",
       "mean      3.311113     0.658149    10.422983  \n",
       "std       0.154386     0.169507     1.065668  \n",
       "min       2.740000     0.330000     8.400000  \n",
       "25%       3.210000     0.550000     9.500000  \n",
       "50%       3.310000     0.620000    10.200000  \n",
       "75%       3.400000     0.730000    11.100000  \n",
       "max       4.010000     2.000000    14.900000  "
      ]
     },
     "execution_count": 6,
     "metadata": {},
     "output_type": "execute_result"
    }
   ],
   "source": [
    "df.describe()"
   ]
  },
  {
   "cell_type": "code",
   "execution_count": 7,
   "id": "958b51c9-6289-4fab-8b00-876b6d1eb247",
   "metadata": {},
   "outputs": [
    {
     "data": {
      "text/plain": [
       "fixed acidity           0\n",
       "volatile acidity        0\n",
       "citric acid             0\n",
       "residual sugar          0\n",
       "chlorides               0\n",
       "free sulfur dioxide     0\n",
       "total sulfur dioxide    0\n",
       "density                 0\n",
       "pH                      0\n",
       "sulphates               0\n",
       "alcohol                 0\n",
       "quality                 0\n",
       "dtype: int64"
      ]
     },
     "execution_count": 7,
     "metadata": {},
     "output_type": "execute_result"
    }
   ],
   "source": [
    "df.isnull().sum()"
   ]
  },
  {
   "cell_type": "code",
   "execution_count": null,
   "id": "9aa93f14-857c-41d3-ab33-d3dec9f241b6",
   "metadata": {},
   "outputs": [],
   "source": []
  },
  {
   "cell_type": "code",
   "execution_count": 8,
   "id": "ecbdf68e-e083-45b3-84d1-b2548d6ace26",
   "metadata": {},
   "outputs": [
    {
     "data": {
      "text/plain": [
       "' from the above analysis we can absorve that there is only one categorical \\ncol that is needed to be encoded for the model training \\n'"
      ]
     },
     "execution_count": 8,
     "metadata": {},
     "output_type": "execute_result"
    }
   ],
   "source": [
    "\"\"\" from the above analysis we can absorve that there is only one categorical \n",
    "col that is needed to be encoded for the model training \n",
    "\"\"\""
   ]
  },
  {
   "cell_type": "code",
   "execution_count": 9,
   "id": "35162d5c-3bc5-4a5c-beb1-ba896ae079e1",
   "metadata": {},
   "outputs": [
    {
     "data": {
      "text/plain": [
       "good    855\n",
       "bad     744\n",
       "Name: quality, dtype: int64"
      ]
     },
     "execution_count": 9,
     "metadata": {},
     "output_type": "execute_result"
    }
   ],
   "source": [
    "df.quality.value_counts()"
   ]
  },
  {
   "cell_type": "code",
   "execution_count": 10,
   "id": "33675a0a-c40a-45bb-992f-a1569959b342",
   "metadata": {},
   "outputs": [
    {
     "data": {
      "text/html": [
       "<div>\n",
       "<style scoped>\n",
       "    .dataframe tbody tr th:only-of-type {\n",
       "        vertical-align: middle;\n",
       "    }\n",
       "\n",
       "    .dataframe tbody tr th {\n",
       "        vertical-align: top;\n",
       "    }\n",
       "\n",
       "    .dataframe thead th {\n",
       "        text-align: right;\n",
       "    }\n",
       "</style>\n",
       "<table border=\"1\" class=\"dataframe\">\n",
       "  <thead>\n",
       "    <tr style=\"text-align: right;\">\n",
       "      <th></th>\n",
       "      <th>fixed acidity</th>\n",
       "      <th>volatile acidity</th>\n",
       "      <th>citric acid</th>\n",
       "      <th>residual sugar</th>\n",
       "      <th>chlorides</th>\n",
       "      <th>free sulfur dioxide</th>\n",
       "      <th>total sulfur dioxide</th>\n",
       "      <th>density</th>\n",
       "      <th>pH</th>\n",
       "      <th>sulphates</th>\n",
       "      <th>alcohol</th>\n",
       "      <th>quality</th>\n",
       "    </tr>\n",
       "  </thead>\n",
       "  <tbody>\n",
       "    <tr>\n",
       "      <th>0</th>\n",
       "      <td>7.4</td>\n",
       "      <td>0.70</td>\n",
       "      <td>0.00</td>\n",
       "      <td>1.9</td>\n",
       "      <td>0.076</td>\n",
       "      <td>11.0</td>\n",
       "      <td>34.0</td>\n",
       "      <td>0.9978</td>\n",
       "      <td>3.51</td>\n",
       "      <td>0.56</td>\n",
       "      <td>9.4</td>\n",
       "      <td>0</td>\n",
       "    </tr>\n",
       "    <tr>\n",
       "      <th>1</th>\n",
       "      <td>7.8</td>\n",
       "      <td>0.88</td>\n",
       "      <td>0.00</td>\n",
       "      <td>2.6</td>\n",
       "      <td>0.098</td>\n",
       "      <td>25.0</td>\n",
       "      <td>67.0</td>\n",
       "      <td>0.9968</td>\n",
       "      <td>3.20</td>\n",
       "      <td>0.68</td>\n",
       "      <td>9.8</td>\n",
       "      <td>0</td>\n",
       "    </tr>\n",
       "    <tr>\n",
       "      <th>2</th>\n",
       "      <td>7.8</td>\n",
       "      <td>0.76</td>\n",
       "      <td>0.04</td>\n",
       "      <td>2.3</td>\n",
       "      <td>0.092</td>\n",
       "      <td>15.0</td>\n",
       "      <td>54.0</td>\n",
       "      <td>0.9970</td>\n",
       "      <td>3.26</td>\n",
       "      <td>0.65</td>\n",
       "      <td>9.8</td>\n",
       "      <td>0</td>\n",
       "    </tr>\n",
       "    <tr>\n",
       "      <th>3</th>\n",
       "      <td>11.2</td>\n",
       "      <td>0.28</td>\n",
       "      <td>0.56</td>\n",
       "      <td>1.9</td>\n",
       "      <td>0.075</td>\n",
       "      <td>17.0</td>\n",
       "      <td>60.0</td>\n",
       "      <td>0.9980</td>\n",
       "      <td>3.16</td>\n",
       "      <td>0.58</td>\n",
       "      <td>9.8</td>\n",
       "      <td>1</td>\n",
       "    </tr>\n",
       "    <tr>\n",
       "      <th>4</th>\n",
       "      <td>7.4</td>\n",
       "      <td>0.70</td>\n",
       "      <td>0.00</td>\n",
       "      <td>1.9</td>\n",
       "      <td>0.076</td>\n",
       "      <td>11.0</td>\n",
       "      <td>34.0</td>\n",
       "      <td>0.9978</td>\n",
       "      <td>3.51</td>\n",
       "      <td>0.56</td>\n",
       "      <td>9.4</td>\n",
       "      <td>0</td>\n",
       "    </tr>\n",
       "  </tbody>\n",
       "</table>\n",
       "</div>"
      ],
      "text/plain": [
       "   fixed acidity  volatile acidity  citric acid  residual sugar  chlorides  \\\n",
       "0            7.4              0.70         0.00             1.9      0.076   \n",
       "1            7.8              0.88         0.00             2.6      0.098   \n",
       "2            7.8              0.76         0.04             2.3      0.092   \n",
       "3           11.2              0.28         0.56             1.9      0.075   \n",
       "4            7.4              0.70         0.00             1.9      0.076   \n",
       "\n",
       "   free sulfur dioxide  total sulfur dioxide  density    pH  sulphates  \\\n",
       "0                 11.0                  34.0   0.9978  3.51       0.56   \n",
       "1                 25.0                  67.0   0.9968  3.20       0.68   \n",
       "2                 15.0                  54.0   0.9970  3.26       0.65   \n",
       "3                 17.0                  60.0   0.9980  3.16       0.58   \n",
       "4                 11.0                  34.0   0.9978  3.51       0.56   \n",
       "\n",
       "   alcohol  quality  \n",
       "0      9.4        0  \n",
       "1      9.8        0  \n",
       "2      9.8        0  \n",
       "3      9.8        1  \n",
       "4      9.4        0  "
      ]
     },
     "execution_count": 10,
     "metadata": {},
     "output_type": "execute_result"
    }
   ],
   "source": [
    "# lets encoded the quality col\n",
    "\n",
    "from sklearn.preprocessing import LabelEncoder\n",
    "\n",
    "encoder = LabelEncoder()\n",
    "\n",
    "df.quality = encoder.fit_transform(df.quality)\n",
    "df.head()"
   ]
  },
  {
   "cell_type": "code",
   "execution_count": 11,
   "id": "4fa9a776-7297-4062-acd7-7ee0b6fc648d",
   "metadata": {},
   "outputs": [
    {
     "data": {
      "text/plain": [
       "1    855\n",
       "0    744\n",
       "Name: quality, dtype: int64"
      ]
     },
     "execution_count": 11,
     "metadata": {},
     "output_type": "execute_result"
    }
   ],
   "source": [
    "df.quality.value_counts()"
   ]
  },
  {
   "cell_type": "code",
   "execution_count": 12,
   "id": "f66bd38a-fe68-4e01-b1c2-c9a5dfff7628",
   "metadata": {
    "collapsed": true,
    "jupyter": {
     "outputs_hidden": true
    },
    "tags": []
   },
   "outputs": [
    {
     "data": {
      "text/plain": [
       "Text(0.5, 1.0, 'Quality')"
      ]
     },
     "execution_count": 12,
     "metadata": {},
     "output_type": "execute_result"
    },
    {
     "data": {
      "image/png": "[encoded data removed]",
      "text/plain": [
       "<Figure size 640x480 with 1 Axes>"
      ]
     },
     "metadata": {},
     "output_type": "display_data"
    }
   ],
   "source": [
    "df.quality.value_counts().plot(kind='bar',color='green')\n",
    "plt.xlabel(\"Good or Bad\")\n",
    "plt.ylabel(\"Count\")\n",
    "plt.title(\"Quality\")"
   ]
  },
  {
   "cell_type": "code",
   "execution_count": null,
   "id": "5620f724-6893-4fec-85e7-b07519a36454",
   "metadata": {},
   "outputs": [],
   "source": []
  },
  {
   "cell_type": "code",
   "execution_count": 13,
   "id": "e2220ba6-8780-47ea-a368-29d634724469",
   "metadata": {
    "collapsed": true,
    "jupyter": {
     "outputs_hidden": true
    },
    "tags": []
   },
   "outputs": [
    {
     "data": {
      "text/plain": [
       "<AxesSubplot: >"
      ]
     },
     "execution_count": 13,
     "metadata": {},
     "output_type": "execute_result"
    },
    {
     "data": {
      "image/png": "[encoded data removed]",
      "text/plain": [
       "<Figure size 1200x1200 with 2 Axes>"
      ]
     },
     "metadata": {},
     "output_type": "display_data"
    }
   ],
   "source": [
    "#Plotting the correlation matrix\n",
    "corr = df.corr()\n",
    "plt.figure(figsize=(12,12))\n",
    "sns.heatmap(corr, cmap='viridis',annot=True)"
   ]
  },
  {
   "cell_type": "code",
   "execution_count": null,
   "id": "9efd4bc8-02e7-4f0c-ab31-45b56dc07d98",
   "metadata": {},
   "outputs": [],
   "source": []
  },
  {
   "cell_type": "code",
   "execution_count": null,
   "id": "c9db2786-474b-4072-aad9-3336ba3f32e9",
   "metadata": {
    "collapsed": true,
    "jupyter": {
     "outputs_hidden": true
    },
    "tags": []
   },
   "outputs": [],
   "source": []
  },
  {
   "cell_type": "code",
   "execution_count": 14,
   "id": "3d5434a0-39eb-4f53-89a3-32d8977dc144",
   "metadata": {},
   "outputs": [],
   "source": [
    "# saprating the target and independent variable \n",
    "\n",
    "x = df.drop(\"quality\", axis = 1)\n",
    "y = df.quality"
   ]
  },
  {
   "cell_type": "code",
   "execution_count": null,
   "id": "a0b6fb41-a529-417a-b219-16342e79895e",
   "metadata": {},
   "outputs": [],
   "source": []
  },
  {
   "cell_type": "code",
   "execution_count": 15,
   "id": "def01967-c5db-4a6c-ab5a-426285e62aa1",
   "metadata": {},
   "outputs": [],
   "source": [
    "from sklearn.model_selection import train_test_split"
   ]
  },
  {
   "cell_type": "code",
   "execution_count": 16,
   "id": "73ca8ab5-de78-4e5f-b674-9d2f93fedd97",
   "metadata": {},
   "outputs": [],
   "source": [
    "## splitting the data into train_full and test \n",
    "\n",
    "x_train_full, x_test, y_train_full, y_test = train_test_split(x, y, random_state=42)"
   ]
  },
  {
   "cell_type": "code",
   "execution_count": 17,
   "id": "e5847ef2-76af-4a0b-8ed7-ad58674853f6",
   "metadata": {},
   "outputs": [],
   "source": [
    "## splitting the data into train and validation\n",
    "\n",
    "x_train, x_valid, y_train, y_valid = train_test_split(x_train_full, y_train_full, random_state=42) \n"
   ]
  },
  {
   "cell_type": "code",
   "execution_count": 69,
   "id": "3721b7fd-2632-44ac-bd5d-058019ac899c",
   "metadata": {},
   "outputs": [
    {
     "name": "stdout",
     "output_type": "stream",
     "text": [
      "(1199, 11)\n",
      "(1199,)\n",
      "(400, 11)\n",
      "(400,)\n",
      "(899, 11)\n",
      "(899,)\n",
      "(300, 11)\n",
      "(300,)\n"
     ]
    }
   ],
   "source": [
    "print(x_train_full.shape)\n",
    "print(y_train_full.shape)\n",
    "\n",
    "print(x_test.shape)\n",
    "print(y_test.shape)\n",
    "\n",
    "print(x_train.shape)\n",
    "print(y_train.shape)\n",
    "\n",
    "print(x_valid.shape)\n",
    "print(y_valid.shape)\n"
   ]
  },
  {
   "cell_type": "code",
   "execution_count": null,
   "id": "3ebcd9a3-d7fe-4d9c-a9d1-c8ce57f8ce5c",
   "metadata": {},
   "outputs": [],
   "source": []
  },
  {
   "cell_type": "code",
   "execution_count": 70,
   "id": "c9b12843-832c-4840-8a2c-bfdcf473c56a",
   "metadata": {},
   "outputs": [],
   "source": [
    "# lets scale the data\n",
    "\n",
    "from sklearn.preprocessing import StandardScaler\n",
    "\n",
    "scaler = StandardScaler()\n",
    "\n",
    "x_train_scaled = scaler.fit_transform(x_train)\n",
    "x_test_scaled = scaler.transform(x_test)\n",
    "\n",
    "x_valid_scaled = scaler.fit_transform(x_valid)\n"
   ]
  },
  {
   "cell_type": "code",
   "execution_count": null,
   "id": "6c904222-c053-439a-9b82-873d214c5f62",
   "metadata": {},
   "outputs": [],
   "source": []
  },
  {
   "cell_type": "code",
   "execution_count": 71,
   "id": "6aa07618-acce-4e3c-ab2a-da507efb4c19",
   "metadata": {},
   "outputs": [],
   "source": [
    "# Creating the lay out\n",
    "\n",
    "LAYERS = [tf.keras.layers.Flatten(input_shape=x_train.shape[1:], name=\"inputLayer\"),\n",
    "          tf.keras.layers.Dense(30, activation=\"relu\", name=\"hiddenLayer1\"),\n",
    "          tf.keras.layers.Dense(10, activation=\"relu\", name=\"hiddenLayer2\"),\n",
    "          tf.keras.layers.Dense(2, activation=\"sigmoid\", name=\"outputLayer\")\n",
    "          ]"
   ]
  },
  {
   "cell_type": "code",
   "execution_count": 72,
   "id": "2e1c8dd7-a56e-44ab-8bec-eb2d666583d1",
   "metadata": {},
   "outputs": [],
   "source": [
    "# Defining model\n",
    "model_clf = tf.keras.models.Sequential(LAYERS)"
   ]
  },
  {
   "cell_type": "code",
   "execution_count": 73,
   "id": "d6555640-8d01-41a4-8365-2f9718c50731",
   "metadata": {
    "tags": []
   },
   "outputs": [
    {
     "name": "stdout",
     "output_type": "stream",
     "text": [
      "Model: \"sequential_1\"\n",
      "_________________________________________________________________\n",
      " Layer (type)                Output Shape              Param #   \n",
      "=================================================================\n",
      " inputLayer (Flatten)        (None, 11)                0         \n",
      "                                                                 \n",
      " hiddenLayer1 (Dense)        (None, 30)                360       \n",
      "                                                                 \n",
      " hiddenLayer2 (Dense)        (None, 10)                310       \n",
      "                                                                 \n",
      " outputLayer (Dense)         (None, 2)                 22        \n",
      "                                                                 \n",
      "=================================================================\n",
      "Total params: 692 (2.70 KB)\n",
      "Trainable params: 692 (2.70 KB)\n",
      "Non-trainable params: 0 (0.00 Byte)\n",
      "_________________________________________________________________\n"
     ]
    }
   ],
   "source": [
    "model_clf.summary()"
   ]
  },
  {
   "cell_type": "code",
   "execution_count": null,
   "id": "6b5a3e4d-2318-4cdc-a614-7812e577a1b1",
   "metadata": {},
   "outputs": [],
   "source": []
  },
  {
   "cell_type": "code",
   "execution_count": 74,
   "id": "1da4a9aa-0072-4b35-82dd-f912a15df421",
   "metadata": {
    "tags": []
   },
   "outputs": [],
   "source": [
    "## model compilation \n",
    "\n",
    "LOSS = \"sparse_categorical_crossentropy\"\n",
    "# OPTIMIZER = \"ADAM\"\n",
    "OPTIMIZER = tf.keras.optimizers.Adam()\n",
    "METRICS = [\"accuracy\"]\n",
    "\n",
    "model_clf.compile( loss = LOSS,\n",
    "                  optimizer= OPTIMIZER,\n",
    "                  metrics=METRICS)"
   ]
  },
  {
   "cell_type": "code",
   "execution_count": null,
   "id": "c701703e-efb9-47ee-aeda-909e0b7820b8",
   "metadata": {},
   "outputs": [],
   "source": []
  },
  {
   "cell_type": "code",
   "execution_count": 75,
   "id": "6d4b8617-5a96-4250-8da1-ec3736ed02ff",
   "metadata": {},
   "outputs": [],
   "source": [
    "## Obtaining the model's parameters (weights and biases).\n",
    "\n",
    "layer1 = model_clf.layers[1]"
   ]
  },
  {
   "cell_type": "code",
   "execution_count": 76,
   "id": "4e0930a3-3c72-442e-be62-816ebdd3f974",
   "metadata": {},
   "outputs": [],
   "source": [
    "weights, biases = layer1.get_weights()"
   ]
  },
  {
   "cell_type": "code",
   "execution_count": 77,
   "id": "0bd76867-9030-4264-a2c1-1a1065657fcf",
   "metadata": {
    "collapsed": true,
    "jupyter": {
     "outputs_hidden": true
    },
    "tags": []
   },
   "outputs": [
    {
     "name": "stdout",
     "output_type": "stream",
     "text": [
      "shape\n",
      " (11, 30) \n",
      "\n"
     ]
    },
    {
     "data": {
      "text/plain": [
       "array([[ 2.20851898e-02, -9.27102566e-02,  1.18252069e-01,\n",
       "        -7.62949884e-02, -1.50880486e-01, -1.97493911e-01,\n",
       "         8.34336877e-02,  1.48802429e-01,  1.15252197e-01,\n",
       "         2.11150557e-01, -2.66709924e-01, -1.64503857e-01,\n",
       "        -3.18832278e-01,  2.42983997e-02,  1.86192185e-01,\n",
       "         3.32278997e-01,  1.76560134e-01,  3.29083771e-01,\n",
       "        -3.61441761e-01, -4.68045771e-02, -2.84514189e-01,\n",
       "         2.68132955e-01,  9.10740197e-02, -2.93285728e-01,\n",
       "         1.28495693e-02, -5.85386157e-02,  7.89162517e-02,\n",
       "         2.80882984e-01, -3.55680555e-01,  2.08212644e-01],\n",
       "       [ 1.71679109e-01,  3.76786381e-01,  4.76803482e-02,\n",
       "        -8.41823816e-02, -3.00600111e-01, -6.74738884e-02,\n",
       "         3.49021226e-01,  2.77117163e-01, -2.39909664e-01,\n",
       "        -2.94614792e-01, -3.69316310e-01, -1.15997255e-01,\n",
       "        -9.70605910e-02,  3.75138193e-01,  2.04721987e-02,\n",
       "        -3.17235112e-01,  2.10039109e-01, -2.25777835e-01,\n",
       "         1.53982133e-01, -3.11625749e-01, -3.54649365e-01,\n",
       "         1.39276236e-01,  1.61478192e-01, -2.22870544e-01,\n",
       "        -2.47301459e-01,  2.09684879e-01, -2.93729365e-01,\n",
       "        -2.53843606e-01,  4.98214364e-03, -2.03789175e-02],\n",
       "       [-1.89939126e-01,  3.74770015e-01,  1.79465026e-01,\n",
       "         8.86851549e-03,  2.55165726e-01, -3.00932646e-01,\n",
       "        -2.97267258e-01, -2.49557540e-01,  1.19715333e-02,\n",
       "        -4.40931320e-02, -2.28599563e-01, -8.32090378e-02,\n",
       "         3.17717582e-01, -1.22029006e-01, -2.03084052e-02,\n",
       "         3.23976874e-02, -1.64835751e-01,  1.46775752e-01,\n",
       "         1.92639858e-01, -7.85260797e-02,  3.66391093e-01,\n",
       "         2.53768414e-01, -2.93875039e-02,  1.40847296e-01,\n",
       "        -2.82407522e-01, -4.44385111e-02,  2.18274504e-01,\n",
       "         1.07978165e-01, -2.51867890e-01,  3.72356743e-01],\n",
       "       [-3.04357886e-01,  2.76048809e-01,  1.16660327e-01,\n",
       "        -2.12637857e-01,  2.83070236e-01,  3.42599601e-01,\n",
       "         1.79664761e-01, -3.39765817e-01,  1.20417386e-01,\n",
       "         3.22276980e-01,  2.41135061e-02, -1.42990798e-01,\n",
       "         2.16980189e-01, -1.34734005e-01, -3.07032466e-02,\n",
       "         2.68123150e-02, -2.29445592e-01, -3.05905104e-01,\n",
       "         2.38440037e-02, -3.08193475e-01,  1.66639417e-01,\n",
       "         2.21965224e-01, -2.79462993e-01, -4.35644090e-02,\n",
       "        -3.04741055e-01, -4.30142581e-02,  2.18554586e-01,\n",
       "        -3.44738841e-01, -8.74702930e-02,  8.07393491e-02],\n",
       "       [ 2.23748952e-01,  2.65223473e-01, -2.51937032e-01,\n",
       "         1.24456018e-01,  9.56276059e-03, -2.56398737e-01,\n",
       "        -2.64673412e-01, -2.66316921e-01,  3.32812935e-01,\n",
       "        -1.26462698e-01, -1.56859323e-01, -2.97027946e-01,\n",
       "        -9.14128423e-02,  3.63659292e-01,  1.03726566e-01,\n",
       "         2.50779122e-01,  2.08110005e-01,  3.79678041e-01,\n",
       "         2.87676364e-01,  3.69170308e-02,  2.97663063e-01,\n",
       "        -2.60445893e-01,  1.95863992e-01,  1.45217508e-01,\n",
       "        -3.67074281e-01,  2.33590811e-01,  6.28595948e-02,\n",
       "         1.49770409e-01, -1.54078007e-05, -2.01055422e-01],\n",
       "       [-1.64482236e-01, -2.34995022e-01, -2.25961611e-01,\n",
       "        -3.10408145e-01,  1.53266639e-01,  3.51076037e-01,\n",
       "         2.98649639e-01, -2.11351395e-01, -1.07550591e-01,\n",
       "         1.07131392e-01, -1.58866316e-01,  4.77189422e-02,\n",
       "         1.69147342e-01,  3.21567953e-02,  1.50372535e-01,\n",
       "        -3.00523400e-01, -2.40827113e-01,  2.48077899e-01,\n",
       "         3.43351930e-01, -2.18086690e-01, -2.62292176e-01,\n",
       "         3.69205028e-01, -3.46782684e-01, -3.60007286e-01,\n",
       "        -1.50287196e-01, -2.03594506e-01,  1.01920515e-01,\n",
       "        -2.87243783e-01,  1.27234608e-01, -7.70152509e-02],\n",
       "       [-3.23909819e-01, -3.60164255e-01, -2.52502143e-01,\n",
       "         5.98549843e-03,  2.35507160e-01, -1.96669042e-01,\n",
       "         2.75413185e-01,  2.04679400e-01, -1.76866382e-01,\n",
       "        -6.99373782e-02, -7.21451044e-02, -3.78424525e-01,\n",
       "        -2.47743174e-01,  3.24249268e-04,  1.96066529e-01,\n",
       "         4.82106209e-02, -3.34717751e-01, -2.38214597e-01,\n",
       "         1.39509469e-01,  1.42314702e-01,  5.87039888e-02,\n",
       "         2.72776335e-01, -1.35519385e-01,  8.45044553e-02,\n",
       "        -1.67587623e-01, -1.14592701e-01,  9.42788124e-02,\n",
       "        -3.73617679e-01, -1.00527614e-01, -3.58384997e-01],\n",
       "       [ 2.24860281e-01,  1.22521788e-01, -9.18314755e-02,\n",
       "         3.42844874e-01,  8.70813727e-02, -3.57963800e-01,\n",
       "         1.78348690e-01, -1.43216446e-01, -1.48314774e-01,\n",
       "        -2.21885696e-01, -3.54766577e-01,  2.48310179e-01,\n",
       "         3.60068291e-01, -1.63157284e-01,  6.06609881e-02,\n",
       "        -3.50997388e-01,  2.15840548e-01,  3.08037966e-01,\n",
       "         1.73898786e-01,  3.34004074e-01,  1.41110927e-01,\n",
       "        -2.83274889e-01,  1.61014199e-02,  2.78948396e-01,\n",
       "         2.86008388e-01,  2.70325869e-01, -2.36585841e-01,\n",
       "         2.47022837e-01,  3.79394680e-01, -3.52977395e-01],\n",
       "       [ 2.47525126e-01, -1.83284819e-01, -6.40404224e-03,\n",
       "        -3.11947346e-01, -7.31065869e-02, -3.43917012e-02,\n",
       "         2.31724828e-01,  6.87977672e-03,  1.77452356e-01,\n",
       "         2.62841433e-01,  2.89608508e-01, -2.24512711e-01,\n",
       "        -3.46592963e-01, -2.44296774e-01,  4.76209819e-02,\n",
       "        -1.44284278e-01,  1.05488330e-01,  2.94328958e-01,\n",
       "         2.24433631e-01,  9.34462845e-02, -1.40624091e-01,\n",
       "         7.55782723e-02, -9.56237316e-02, -2.76497990e-01,\n",
       "        -1.60068050e-01, -6.29673004e-02, -6.84678555e-02,\n",
       "        -3.52381647e-01,  3.75190675e-02, -3.43076617e-01],\n",
       "       [-1.86937541e-01,  1.83435708e-01,  2.18252540e-02,\n",
       "        -2.81202316e-01,  7.58227110e-02, -1.31034881e-01,\n",
       "         1.55675918e-01,  1.01696163e-01, -5.80301583e-02,\n",
       "        -3.58626872e-01, -3.47390205e-01, -9.34468210e-02,\n",
       "         2.95431286e-01,  9.49029326e-02,  2.86021560e-01,\n",
       "        -3.77216637e-02,  1.70394748e-01,  3.37038368e-01,\n",
       "         3.66296500e-01, -2.13993907e-01,  2.96893328e-01,\n",
       "         2.35315710e-01, -3.12125921e-01, -2.42381349e-01,\n",
       "         1.40616626e-01,  6.38603866e-02, -7.85199404e-02,\n",
       "         3.26912910e-01,  1.59944564e-01, -3.64377499e-01],\n",
       "       [ 3.09814960e-01, -1.30837053e-01, -1.89028069e-01,\n",
       "         2.76312917e-01, -1.92421943e-01, -3.56169790e-01,\n",
       "        -4.42474484e-02, -1.05155051e-01, -1.79091528e-01,\n",
       "         9.72567797e-02, -1.80676788e-01,  2.77028531e-01,\n",
       "         2.85295337e-01, -1.80378631e-01,  5.53640127e-02,\n",
       "        -2.19132096e-01, -1.98385641e-01, -1.82960674e-01,\n",
       "        -2.10376590e-01, -3.20727229e-02, -1.61462486e-01,\n",
       "         2.87986487e-01,  1.63918883e-01, -2.05849215e-01,\n",
       "         6.31086826e-02,  3.30787212e-01, -3.27829599e-01,\n",
       "        -4.65054214e-02,  5.17891049e-02,  1.51946217e-01]], dtype=float32)"
      ]
     },
     "execution_count": 77,
     "metadata": {},
     "output_type": "execute_result"
    }
   ],
   "source": [
    "print(\"shape\\n\",weights.shape, \"\\n\")\n",
    "weights"
   ]
  },
  {
   "cell_type": "code",
   "execution_count": 78,
   "id": "9768afdc-fc25-40ac-9ae8-0d252768e0f7",
   "metadata": {
    "collapsed": true,
    "jupyter": {
     "outputs_hidden": true
    },
    "tags": []
   },
   "outputs": [
    {
     "name": "stdout",
     "output_type": "stream",
     "text": [
      "shape\n",
      " (30,) \n",
      "\n"
     ]
    },
    {
     "data": {
      "text/plain": [
       "array([[ 2.20851898e-02, -9.27102566e-02,  1.18252069e-01,\n",
       "        -7.62949884e-02, -1.50880486e-01, -1.97493911e-01,\n",
       "         8.34336877e-02,  1.48802429e-01,  1.15252197e-01,\n",
       "         2.11150557e-01, -2.66709924e-01, -1.64503857e-01,\n",
       "        -3.18832278e-01,  2.42983997e-02,  1.86192185e-01,\n",
       "         3.32278997e-01,  1.76560134e-01,  3.29083771e-01,\n",
       "        -3.61441761e-01, -4.68045771e-02, -2.84514189e-01,\n",
       "         2.68132955e-01,  9.10740197e-02, -2.93285728e-01,\n",
       "         1.28495693e-02, -5.85386157e-02,  7.89162517e-02,\n",
       "         2.80882984e-01, -3.55680555e-01,  2.08212644e-01],\n",
       "       [ 1.71679109e-01,  3.76786381e-01,  4.76803482e-02,\n",
       "        -8.41823816e-02, -3.00600111e-01, -6.74738884e-02,\n",
       "         3.49021226e-01,  2.77117163e-01, -2.39909664e-01,\n",
       "        -2.94614792e-01, -3.69316310e-01, -1.15997255e-01,\n",
       "        -9.70605910e-02,  3.75138193e-01,  2.04721987e-02,\n",
       "        -3.17235112e-01,  2.10039109e-01, -2.25777835e-01,\n",
       "         1.53982133e-01, -3.11625749e-01, -3.54649365e-01,\n",
       "         1.39276236e-01,  1.61478192e-01, -2.22870544e-01,\n",
       "        -2.47301459e-01,  2.09684879e-01, -2.93729365e-01,\n",
       "        -2.53843606e-01,  4.98214364e-03, -2.03789175e-02],\n",
       "       [-1.89939126e-01,  3.74770015e-01,  1.79465026e-01,\n",
       "         8.86851549e-03,  2.55165726e-01, -3.00932646e-01,\n",
       "        -2.97267258e-01, -2.49557540e-01,  1.19715333e-02,\n",
       "        -4.40931320e-02, -2.28599563e-01, -8.32090378e-02,\n",
       "         3.17717582e-01, -1.22029006e-01, -2.03084052e-02,\n",
       "         3.23976874e-02, -1.64835751e-01,  1.46775752e-01,\n",
       "         1.92639858e-01, -7.85260797e-02,  3.66391093e-01,\n",
       "         2.53768414e-01, -2.93875039e-02,  1.40847296e-01,\n",
       "        -2.82407522e-01, -4.44385111e-02,  2.18274504e-01,\n",
       "         1.07978165e-01, -2.51867890e-01,  3.72356743e-01],\n",
       "       [-3.04357886e-01,  2.76048809e-01,  1.16660327e-01,\n",
       "        -2.12637857e-01,  2.83070236e-01,  3.42599601e-01,\n",
       "         1.79664761e-01, -3.39765817e-01,  1.20417386e-01,\n",
       "         3.22276980e-01,  2.41135061e-02, -1.42990798e-01,\n",
       "         2.16980189e-01, -1.34734005e-01, -3.07032466e-02,\n",
       "         2.68123150e-02, -2.29445592e-01, -3.05905104e-01,\n",
       "         2.38440037e-02, -3.08193475e-01,  1.66639417e-01,\n",
       "         2.21965224e-01, -2.79462993e-01, -4.35644090e-02,\n",
       "        -3.04741055e-01, -4.30142581e-02,  2.18554586e-01,\n",
       "        -3.44738841e-01, -8.74702930e-02,  8.07393491e-02],\n",
       "       [ 2.23748952e-01,  2.65223473e-01, -2.51937032e-01,\n",
       "         1.24456018e-01,  9.56276059e-03, -2.56398737e-01,\n",
       "        -2.64673412e-01, -2.66316921e-01,  3.32812935e-01,\n",
       "        -1.26462698e-01, -1.56859323e-01, -2.97027946e-01,\n",
       "        -9.14128423e-02,  3.63659292e-01,  1.03726566e-01,\n",
       "         2.50779122e-01,  2.08110005e-01,  3.79678041e-01,\n",
       "         2.87676364e-01,  3.69170308e-02,  2.97663063e-01,\n",
       "        -2.60445893e-01,  1.95863992e-01,  1.45217508e-01,\n",
       "        -3.67074281e-01,  2.33590811e-01,  6.28595948e-02,\n",
       "         1.49770409e-01, -1.54078007e-05, -2.01055422e-01],\n",
       "       [-1.64482236e-01, -2.34995022e-01, -2.25961611e-01,\n",
       "        -3.10408145e-01,  1.53266639e-01,  3.51076037e-01,\n",
       "         2.98649639e-01, -2.11351395e-01, -1.07550591e-01,\n",
       "         1.07131392e-01, -1.58866316e-01,  4.77189422e-02,\n",
       "         1.69147342e-01,  3.21567953e-02,  1.50372535e-01,\n",
       "        -3.00523400e-01, -2.40827113e-01,  2.48077899e-01,\n",
       "         3.43351930e-01, -2.18086690e-01, -2.62292176e-01,\n",
       "         3.69205028e-01, -3.46782684e-01, -3.60007286e-01,\n",
       "        -1.50287196e-01, -2.03594506e-01,  1.01920515e-01,\n",
       "        -2.87243783e-01,  1.27234608e-01, -7.70152509e-02],\n",
       "       [-3.23909819e-01, -3.60164255e-01, -2.52502143e-01,\n",
       "         5.98549843e-03,  2.35507160e-01, -1.96669042e-01,\n",
       "         2.75413185e-01,  2.04679400e-01, -1.76866382e-01,\n",
       "        -6.99373782e-02, -7.21451044e-02, -3.78424525e-01,\n",
       "        -2.47743174e-01,  3.24249268e-04,  1.96066529e-01,\n",
       "         4.82106209e-02, -3.34717751e-01, -2.38214597e-01,\n",
       "         1.39509469e-01,  1.42314702e-01,  5.87039888e-02,\n",
       "         2.72776335e-01, -1.35519385e-01,  8.45044553e-02,\n",
       "        -1.67587623e-01, -1.14592701e-01,  9.42788124e-02,\n",
       "        -3.73617679e-01, -1.00527614e-01, -3.58384997e-01],\n",
       "       [ 2.24860281e-01,  1.22521788e-01, -9.18314755e-02,\n",
       "         3.42844874e-01,  8.70813727e-02, -3.57963800e-01,\n",
       "         1.78348690e-01, -1.43216446e-01, -1.48314774e-01,\n",
       "        -2.21885696e-01, -3.54766577e-01,  2.48310179e-01,\n",
       "         3.60068291e-01, -1.63157284e-01,  6.06609881e-02,\n",
       "        -3.50997388e-01,  2.15840548e-01,  3.08037966e-01,\n",
       "         1.73898786e-01,  3.34004074e-01,  1.41110927e-01,\n",
       "        -2.83274889e-01,  1.61014199e-02,  2.78948396e-01,\n",
       "         2.86008388e-01,  2.70325869e-01, -2.36585841e-01,\n",
       "         2.47022837e-01,  3.79394680e-01, -3.52977395e-01],\n",
       "       [ 2.47525126e-01, -1.83284819e-01, -6.40404224e-03,\n",
       "        -3.11947346e-01, -7.31065869e-02, -3.43917012e-02,\n",
       "         2.31724828e-01,  6.87977672e-03,  1.77452356e-01,\n",
       "         2.62841433e-01,  2.89608508e-01, -2.24512711e-01,\n",
       "        -3.46592963e-01, -2.44296774e-01,  4.76209819e-02,\n",
       "        -1.44284278e-01,  1.05488330e-01,  2.94328958e-01,\n",
       "         2.24433631e-01,  9.34462845e-02, -1.40624091e-01,\n",
       "         7.55782723e-02, -9.56237316e-02, -2.76497990e-01,\n",
       "        -1.60068050e-01, -6.29673004e-02, -6.84678555e-02,\n",
       "        -3.52381647e-01,  3.75190675e-02, -3.43076617e-01],\n",
       "       [-1.86937541e-01,  1.83435708e-01,  2.18252540e-02,\n",
       "        -2.81202316e-01,  7.58227110e-02, -1.31034881e-01,\n",
       "         1.55675918e-01,  1.01696163e-01, -5.80301583e-02,\n",
       "        -3.58626872e-01, -3.47390205e-01, -9.34468210e-02,\n",
       "         2.95431286e-01,  9.49029326e-02,  2.86021560e-01,\n",
       "        -3.77216637e-02,  1.70394748e-01,  3.37038368e-01,\n",
       "         3.66296500e-01, -2.13993907e-01,  2.96893328e-01,\n",
       "         2.35315710e-01, -3.12125921e-01, -2.42381349e-01,\n",
       "         1.40616626e-01,  6.38603866e-02, -7.85199404e-02,\n",
       "         3.26912910e-01,  1.59944564e-01, -3.64377499e-01],\n",
       "       [ 3.09814960e-01, -1.30837053e-01, -1.89028069e-01,\n",
       "         2.76312917e-01, -1.92421943e-01, -3.56169790e-01,\n",
       "        -4.42474484e-02, -1.05155051e-01, -1.79091528e-01,\n",
       "         9.72567797e-02, -1.80676788e-01,  2.77028531e-01,\n",
       "         2.85295337e-01, -1.80378631e-01,  5.53640127e-02,\n",
       "        -2.19132096e-01, -1.98385641e-01, -1.82960674e-01,\n",
       "        -2.10376590e-01, -3.20727229e-02, -1.61462486e-01,\n",
       "         2.87986487e-01,  1.63918883e-01, -2.05849215e-01,\n",
       "         6.31086826e-02,  3.30787212e-01, -3.27829599e-01,\n",
       "        -4.65054214e-02,  5.17891049e-02,  1.51946217e-01]], dtype=float32)"
      ]
     },
     "execution_count": 78,
     "metadata": {},
     "output_type": "execute_result"
    }
   ],
   "source": [
    "print(\"shape\\n\",biases.shape, \"\\n\")\n",
    "biases"
   ]
  },
  {
   "cell_type": "code",
   "execution_count": null,
   "id": "22f806b5-3802-49ae-89d7-5a532225354d",
   "metadata": {},
   "outputs": [],
   "source": []
  },
  {
   "cell_type": "code",
   "execution_count": 79,
   "id": "7d8963a2-b103-4a37-b85a-d1362e2d752a",
   "metadata": {
    "tags": []
   },
   "outputs": [
    {
     "name": "stdout",
     "output_type": "stream",
     "text": [
      "Epoch 1/10\n",
      "29/29 [==============================] - 1s 10ms/step - loss: 0.7251 - accuracy: 0.5128 - val_loss: 0.6531 - val_accuracy: 0.6233\n",
      "Epoch 2/10\n",
      "29/29 [==============================] - 0s 4ms/step - loss: 0.6451 - accuracy: 0.6474 - val_loss: 0.6084 - val_accuracy: 0.6833\n",
      "Epoch 3/10\n",
      "29/29 [==============================] - 0s 4ms/step - loss: 0.6044 - accuracy: 0.6952 - val_loss: 0.5823 - val_accuracy: 0.7133\n",
      "Epoch 4/10\n",
      "29/29 [==============================] - 0s 3ms/step - loss: 0.5725 - accuracy: 0.7253 - val_loss: 0.5658 - val_accuracy: 0.7267\n",
      "Epoch 5/10\n",
      "29/29 [==============================] - 0s 3ms/step - loss: 0.5456 - accuracy: 0.7453 - val_loss: 0.5568 - val_accuracy: 0.7167\n",
      "Epoch 6/10\n",
      "29/29 [==============================] - 0s 4ms/step - loss: 0.5282 - accuracy: 0.7553 - val_loss: 0.5545 - val_accuracy: 0.7200\n",
      "Epoch 7/10\n",
      "29/29 [==============================] - 0s 3ms/step - loss: 0.5142 - accuracy: 0.7608 - val_loss: 0.5522 - val_accuracy: 0.7367\n",
      "Epoch 8/10\n",
      "29/29 [==============================] - 0s 3ms/step - loss: 0.5063 - accuracy: 0.7653 - val_loss: 0.5519 - val_accuracy: 0.7467\n",
      "Epoch 9/10\n",
      "29/29 [==============================] - 0s 3ms/step - loss: 0.4980 - accuracy: 0.7764 - val_loss: 0.5572 - val_accuracy: 0.7300\n",
      "Epoch 10/10\n",
      "29/29 [==============================] - 0s 3ms/step - loss: 0.4909 - accuracy: 0.7664 - val_loss: 0.5567 - val_accuracy: 0.7333\n"
     ]
    }
   ],
   "source": [
    "## model training \n",
    "\n",
    "EPOCHS = 10\n",
    "\n",
    "VALIDATION_SET = (x_valid_scaled, y_valid)\n",
    "\n",
    "history = model_clf.fit(x_train_scaled, y_train,\n",
    "                        epochs=EPOCHS,\n",
    "                        validation_data=VALIDATION_SET\n",
    "                       )"
   ]
  },
  {
   "cell_type": "code",
   "execution_count": null,
   "id": "52129cb4-23cb-443b-9a4a-d54ea6747dc5",
   "metadata": {},
   "outputs": [],
   "source": []
  },
  {
   "cell_type": "code",
   "execution_count": 80,
   "id": "193fada5-57ac-4e30-a7b5-edc5a61a8e95",
   "metadata": {},
   "outputs": [
    {
     "data": {
      "text/html": [
       "<div>\n",
       "<style scoped>\n",
       "    .dataframe tbody tr th:only-of-type {\n",
       "        vertical-align: middle;\n",
       "    }\n",
       "\n",
       "    .dataframe tbody tr th {\n",
       "        vertical-align: top;\n",
       "    }\n",
       "\n",
       "    .dataframe thead th {\n",
       "        text-align: right;\n",
       "    }\n",
       "</style>\n",
       "<table border=\"1\" class=\"dataframe\">\n",
       "  <thead>\n",
       "    <tr style=\"text-align: right;\">\n",
       "      <th></th>\n",
       "      <th>loss</th>\n",
       "      <th>accuracy</th>\n",
       "      <th>val_loss</th>\n",
       "      <th>val_accuracy</th>\n",
       "    </tr>\n",
       "  </thead>\n",
       "  <tbody>\n",
       "    <tr>\n",
       "      <th>0</th>\n",
       "      <td>0.725064</td>\n",
       "      <td>0.512792</td>\n",
       "      <td>0.653091</td>\n",
       "      <td>0.623333</td>\n",
       "    </tr>\n",
       "    <tr>\n",
       "      <th>1</th>\n",
       "      <td>0.645129</td>\n",
       "      <td>0.647386</td>\n",
       "      <td>0.608426</td>\n",
       "      <td>0.683333</td>\n",
       "    </tr>\n",
       "    <tr>\n",
       "      <th>2</th>\n",
       "      <td>0.604353</td>\n",
       "      <td>0.695217</td>\n",
       "      <td>0.582296</td>\n",
       "      <td>0.713333</td>\n",
       "    </tr>\n",
       "    <tr>\n",
       "      <th>3</th>\n",
       "      <td>0.572469</td>\n",
       "      <td>0.725250</td>\n",
       "      <td>0.565781</td>\n",
       "      <td>0.726667</td>\n",
       "    </tr>\n",
       "    <tr>\n",
       "      <th>4</th>\n",
       "      <td>0.545623</td>\n",
       "      <td>0.745273</td>\n",
       "      <td>0.556755</td>\n",
       "      <td>0.716667</td>\n",
       "    </tr>\n",
       "    <tr>\n",
       "      <th>5</th>\n",
       "      <td>0.528184</td>\n",
       "      <td>0.755284</td>\n",
       "      <td>0.554489</td>\n",
       "      <td>0.720000</td>\n",
       "    </tr>\n",
       "    <tr>\n",
       "      <th>6</th>\n",
       "      <td>0.514181</td>\n",
       "      <td>0.760845</td>\n",
       "      <td>0.552174</td>\n",
       "      <td>0.736667</td>\n",
       "    </tr>\n",
       "    <tr>\n",
       "      <th>7</th>\n",
       "      <td>0.506300</td>\n",
       "      <td>0.765295</td>\n",
       "      <td>0.551948</td>\n",
       "      <td>0.746667</td>\n",
       "    </tr>\n",
       "    <tr>\n",
       "      <th>8</th>\n",
       "      <td>0.498041</td>\n",
       "      <td>0.776418</td>\n",
       "      <td>0.557192</td>\n",
       "      <td>0.730000</td>\n",
       "    </tr>\n",
       "    <tr>\n",
       "      <th>9</th>\n",
       "      <td>0.490938</td>\n",
       "      <td>0.766407</td>\n",
       "      <td>0.556732</td>\n",
       "      <td>0.733333</td>\n",
       "    </tr>\n",
       "  </tbody>\n",
       "</table>\n",
       "</div>"
      ],
      "text/plain": [
       "       loss  accuracy  val_loss  val_accuracy\n",
       "0  0.725064  0.512792  0.653091      0.623333\n",
       "1  0.645129  0.647386  0.608426      0.683333\n",
       "2  0.604353  0.695217  0.582296      0.713333\n",
       "3  0.572469  0.725250  0.565781      0.726667\n",
       "4  0.545623  0.745273  0.556755      0.716667\n",
       "5  0.528184  0.755284  0.554489      0.720000\n",
       "6  0.514181  0.760845  0.552174      0.736667\n",
       "7  0.506300  0.765295  0.551948      0.746667\n",
       "8  0.498041  0.776418  0.557192      0.730000\n",
       "9  0.490938  0.766407  0.556732      0.733333"
      ]
     },
     "execution_count": 80,
     "metadata": {},
     "output_type": "execute_result"
    }
   ],
   "source": [
    "pd.DataFrame(history.history)"
   ]
  },
  {
   "cell_type": "code",
   "execution_count": 81,
   "id": "bb77c3d3-adec-448e-b5b0-59bfbd345f0d",
   "metadata": {},
   "outputs": [
    {
     "data": {
      "image/png": "[encoded data removed]",
      "text/plain": [
       "<Figure size 640x480 with 1 Axes>"
      ]
     },
     "metadata": {},
     "output_type": "display_data"
    }
   ],
   "source": [
    "pd.DataFrame(history.history).plot();"
   ]
  },
  {
   "cell_type": "code",
   "execution_count": 82,
   "id": "27be22fe-6c06-4257-b5d8-8ad98b888766",
   "metadata": {},
   "outputs": [
    {
     "data": {
      "text/plain": [
       "{'verbose': 1, 'epochs': 10, 'steps': 29}"
      ]
     },
     "execution_count": 82,
     "metadata": {},
     "output_type": "execute_result"
    }
   ],
   "source": [
    "history.params"
   ]
  },
  {
   "cell_type": "code",
   "execution_count": null,
   "id": "2875d65d-863c-4078-bc69-5c4a21a1b670",
   "metadata": {},
   "outputs": [],
   "source": []
  },
  {
   "cell_type": "code",
   "execution_count": 106,
   "id": "31f704a2-ea68-4ced-8032-1f167197cdb1",
   "metadata": {},
   "outputs": [
    {
     "name": "stdout",
     "output_type": "stream",
     "text": [
      "13/13 [==============================] - 0s 1ms/step - loss: 0.5305 - accuracy: 0.7325\n"
     ]
    },
    {
     "data": {
      "text/plain": [
       "[0.530517041683197, 0.7325000166893005]"
      ]
     },
     "execution_count": 106,
     "metadata": {},
     "output_type": "execute_result"
    }
   ],
   "source": [
    "# Model Evaluation on whole test data\n",
    "\n",
    "model_clf.evaluate(x_test_scaled, y_test)"
   ]
  },
  {
   "cell_type": "code",
   "execution_count": null,
   "id": "f946a8b7-5bf0-4c58-8718-f65e03e7cef7",
   "metadata": {},
   "outputs": [],
   "source": []
  },
  {
   "cell_type": "code",
   "execution_count": 107,
   "id": "8e88d073-67a9-4373-862b-f6594b3daaa8",
   "metadata": {},
   "outputs": [
    {
     "name": "stdout",
     "output_type": "stream",
     "text": [
      "1/1 [==============================] - 0s 28ms/step\n"
     ]
    },
    {
     "name": "stderr",
     "output_type": "stream",
     "text": [
      "/tmp/ipykernel_7363/4270786401.py:4: FutureWarning: The behavior of `series[i:j]` with an integer-dtype index is deprecated. In a future version, this will be treated as *label-based* indexing, consistent with e.g. `series[i]` lookups. To retain the old behavior, use `series.iloc[i:j]`. To get the future behavior, use `series.loc[i:j]`.\n",
      "  actual = y_test[:5]\n"
     ]
    }
   ],
   "source": [
    "# prediction for new value \n",
    "\n",
    "x_new = x_test_scaled[:5]\n",
    "actual = y_test[:5]\n",
    "\n",
    "y_prob = model_clf.predict(x_new)\n",
    "\n",
    "y_pred = np.argmax(y_prob, axis = -1)"
   ]
  },
  {
   "cell_type": "code",
   "execution_count": 108,
   "id": "40729495-5481-4b2e-b8b2-44caa7a991df",
   "metadata": {},
   "outputs": [
    {
     "data": {
      "text/plain": [
       "803     1\n",
       "124     0\n",
       "350     1\n",
       "682     0\n",
       "1326    1\n",
       "Name: quality, dtype: int64"
      ]
     },
     "execution_count": 108,
     "metadata": {},
     "output_type": "execute_result"
    }
   ],
   "source": [
    "actual"
   ]
  },
  {
   "cell_type": "code",
   "execution_count": 109,
   "id": "2826cffd-069f-4b2b-a72f-257d812c34f4",
   "metadata": {},
   "outputs": [
    {
     "data": {
      "text/plain": [
       "array([0, 0, 1, 0, 1])"
      ]
     },
     "execution_count": 109,
     "metadata": {},
     "output_type": "execute_result"
    }
   ],
   "source": [
    "y_pred"
   ]
  },
  {
   "cell_type": "code",
   "execution_count": null,
   "id": "6637e832-bf12-4921-917c-5a7ec950b9a5",
   "metadata": {},
   "outputs": [],
   "source": []
  },
  {
   "cell_type": "code",
   "execution_count": 110,
   "id": "ccc11a31-c96c-4baa-8fbd-1bc4dc16e1b5",
   "metadata": {},
   "outputs": [
    {
     "name": "stdout",
     "output_type": "stream",
     "text": [
      "[[2 0]\n",
      " [1 2]]\n"
     ]
    }
   ],
   "source": [
    "## performance matrix\n",
    "\n",
    "from sklearn.metrics import confusion_matrix, accuracy_score\n",
    "\n",
    "print(confusion_matrix(actual, y_pred))"
   ]
  },
  {
   "cell_type": "code",
   "execution_count": 121,
   "id": "cfca77f7-0516-4df0-b7a7-2023e62e7e13",
   "metadata": {},
   "outputs": [
    {
     "name": "stdout",
     "output_type": "stream",
     "text": [
      "Accuracy Score : 80.00%\n"
     ]
    }
   ],
   "source": [
    "print(f\"Accuracy Score : {accuracy_score(actual, y_pred)*100:.2f}%\")"
   ]
  },
  {
   "cell_type": "code",
   "execution_count": null,
   "id": "b29a8f2d-63e5-4203-9c00-2c6f64bf11c1",
   "metadata": {},
   "outputs": [],
   "source": []
  },
  {
   "cell_type": "code",
   "execution_count": null,
   "id": "1b1be110-03b5-44cb-a657-f4091a6e1076",
   "metadata": {},
   "outputs": [],
   "source": []
  },
  {
   "cell_type": "code",
   "execution_count": null,
   "id": "148e7a00-d758-4f56-aab9-fd86e5d6fae1",
   "metadata": {},
   "outputs": [],
   "source": []
  },
  {
   "cell_type": "code",
   "execution_count": null,
   "id": "3d0c3d49-3f46-4e73-8ad8-877c865bd1c9",
   "metadata": {},
   "outputs": [],
   "source": []
  }
 ],
 "metadata": {
  "kernelspec": {
   "display_name": "Python 3 (ipykernel)",
   "language": "python",
   "name": "python3"
  },
  "language_info": {
   "codemirror_mode": {
    "name": "ipython",
    "version": 3
   },
   "file_extension": ".py",
   "mimetype": "text/x-python",
   "name": "python",
   "nbconvert_exporter": "python",
   "pygments_lexer": "ipython3",
   "version": "3.10.8"
  }
 },
 "nbformat": 4,
 "nbformat_minor": 5
}
